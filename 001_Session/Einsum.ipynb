{
 "cells": [
  {
   "cell_type": "markdown",
   "id": "016543a3-646b-421e-991b-ed7791d22f10",
   "metadata": {},
   "source": [
    "Einsum\n",
    "======\n",
    "\n",
    "- in pytorch : torch.einsum\n",
    "- in tensorflow: tf.einsum\n",
    "- in numpy : numpy.einsum\n",
    "\n"
   ]
  },
  {
   "cell_type": "code",
   "execution_count": 1,
   "id": "af6050a5-7868-4873-9656-d65994c67e3c",
   "metadata": {},
   "outputs": [],
   "source": [
    "import torch\n",
    "import numpy as np"
   ]
  },
  {
   "cell_type": "code",
   "execution_count": 2,
   "id": "f172ffde-67ab-4376-8474-67695ce06d6c",
   "metadata": {},
   "outputs": [],
   "source": [
    "A = np.random.rand(3,5)\n",
    "B = np.random.rand(5,3)\n",
    "M = np.empty((3,2))"
   ]
  },
  {
   "cell_type": "code",
   "execution_count": 3,
   "id": "0e35136b-f0a0-493b-be56-6b60f15f79a3",
   "metadata": {},
   "outputs": [
    {
     "data": {
      "text/plain": [
       "array([[0.06826841, 0.95954256, 0.44293092, 0.91246281, 0.12303518],\n",
       "       [0.55577359, 0.31399129, 0.71670176, 0.47720299, 0.96542467],\n",
       "       [0.14732689, 0.62933207, 0.53945064, 0.69247926, 0.47982099]])"
      ]
     },
     "execution_count": 3,
     "metadata": {},
     "output_type": "execute_result"
    }
   ],
   "source": [
    "A"
   ]
  },
  {
   "cell_type": "code",
   "execution_count": 4,
   "id": "3cb5b034-119c-4369-8874-2d4b84bc0c70",
   "metadata": {},
   "outputs": [
    {
     "data": {
      "text/plain": [
       "array([[0.37198692, 0.20420639, 0.65782355],\n",
       "       [0.59514695, 0.52271201, 0.44465955],\n",
       "       [0.63975027, 0.51930145, 0.24543627],\n",
       "       [0.84971599, 0.77621981, 0.25772208],\n",
       "       [0.65613505, 0.07804591, 0.0437936 ]])"
      ]
     },
     "execution_count": 4,
     "metadata": {},
     "output_type": "execute_result"
    }
   ],
   "source": [
    "B"
   ]
  },
  {
   "cell_type": "code",
   "execution_count": 5,
   "id": "ec1c95c5-0328-473d-aacf-70add6c26de8",
   "metadata": {},
   "outputs": [
    {
     "data": {
      "text/plain": [
       "array([[4.67994921e-310, 0.00000000e+000],\n",
       "       [0.00000000e+000, 0.00000000e+000],\n",
       "       [0.00000000e+000, 0.00000000e+000]])"
      ]
     },
     "execution_count": 5,
     "metadata": {},
     "output_type": "execute_result"
    }
   ],
   "source": [
    "M"
   ]
  },
  {
   "cell_type": "code",
   "execution_count": 6,
   "id": "cb9c2b1e-4e79-41c4-8b07-7f8e7a3e9bde",
   "metadata": {},
   "outputs": [],
   "source": [
    "for i in range(3):\n",
    "    for j in range(2):\n",
    "        total = 0\n",
    "        for k in range(5):\n",
    "            total += A[i,k]*B[k,j]\n",
    "        M[i,j]  = total\n",
    "        "
   ]
  },
  {
   "cell_type": "code",
   "execution_count": 7,
   "id": "7b62a624-fcf6-4e45-9794-93c36ca3201b",
   "metadata": {},
   "outputs": [
    {
     "data": {
      "text/plain": [
       "array([[1.7358909 , 1.46339404],\n",
       "       [1.89105759, 1.09556566],\n",
       "       [1.6777005 , 1.2141462 ]])"
      ]
     },
     "execution_count": 7,
     "metadata": {},
     "output_type": "execute_result"
    }
   ],
   "source": [
    "M"
   ]
  },
  {
   "cell_type": "code",
   "execution_count": 8,
   "id": "de5860f1-85c7-4c8d-9f2a-340a670fe60c",
   "metadata": {},
   "outputs": [],
   "source": [
    "N = np.empty((3,2))"
   ]
  },
  {
   "cell_type": "code",
   "execution_count": 9,
   "id": "3afbb44a-be89-4fb7-b730-5207adeab3d9",
   "metadata": {},
   "outputs": [
    {
     "data": {
      "text/plain": [
       "array([[1.7358909 , 1.46339404],\n",
       "       [1.89105759, 1.09556566],\n",
       "       [1.6777005 , 1.2141462 ]])"
      ]
     },
     "execution_count": 9,
     "metadata": {},
     "output_type": "execute_result"
    }
   ],
   "source": [
    "N"
   ]
  },
  {
   "cell_type": "code",
   "execution_count": 10,
   "id": "0b58c761-f138-4660-a9bb-32254aeced28",
   "metadata": {},
   "outputs": [],
   "source": [
    "N = np.einsum('ik,kj -> ij', A, B)"
   ]
  },
  {
   "cell_type": "code",
   "execution_count": 11,
   "id": "e0f8c0a2-a929-49a5-a229-3680004910e3",
   "metadata": {},
   "outputs": [
    {
     "data": {
      "text/plain": [
       "array([[1.7358909 , 1.46339404, 0.82083961],\n",
       "       [1.89105759, 1.09556566, 0.84638996],\n",
       "       [1.6777005 , 1.2141462 , 0.70863465]])"
      ]
     },
     "execution_count": 11,
     "metadata": {},
     "output_type": "execute_result"
    }
   ],
   "source": [
    "N"
   ]
  },
  {
   "cell_type": "code",
   "execution_count": 38,
   "id": "b88d11d8-276e-4a9d-bda4-6e96fbd01a90",
   "metadata": {},
   "outputs": [
    {
     "data": {
      "text/plain": [
       "array([4, 0, 2, 2, 1])"
      ]
     },
     "execution_count": 38,
     "metadata": {},
     "output_type": "execute_result"
    }
   ],
   "source": [
    "a = np.random.randint(5,size=5)\n",
    "a"
   ]
  },
  {
   "cell_type": "code",
   "execution_count": 40,
   "id": "9a69dcce-2358-4127-92c8-244bc101642c",
   "metadata": {},
   "outputs": [
    {
     "data": {
      "text/plain": [
       "array([2, 1, 1])"
      ]
     },
     "execution_count": 40,
     "metadata": {},
     "output_type": "execute_result"
    }
   ],
   "source": [
    "b = np.random.randint(5,size=3)\n",
    "b"
   ]
  },
  {
   "cell_type": "code",
   "execution_count": 41,
   "id": "ff7ee091-2238-4ebc-b298-c5da4c7b1980",
   "metadata": {},
   "outputs": [
    {
     "data": {
      "text/plain": [
       "array([[8, 4, 4],\n",
       "       [0, 0, 0],\n",
       "       [4, 2, 2],\n",
       "       [4, 2, 2],\n",
       "       [2, 1, 1]])"
      ]
     },
     "execution_count": 41,
     "metadata": {},
     "output_type": "execute_result"
    }
   ],
   "source": [
    "outer = np.einsum('i,j->ij',a,b)\n",
    "outer"
   ]
  },
  {
   "cell_type": "code",
   "execution_count": 15,
   "id": "81099112-cfb5-4f14-b7f7-3fba84b0299d",
   "metadata": {},
   "outputs": [],
   "source": [
    "for i in range(5):\n",
    "    for j in range(3):\n",
    "        total = 0\n",
    "        #no loop index\n",
    "        total += a[i]*b[j]\n",
    "        outer[i,j] = total"
   ]
  },
  {
   "cell_type": "markdown",
   "id": "8288e755-28fe-446b-9ff9-750e92a9402d",
   "metadata": {},
   "source": [
    "Rules\n",
    "=====\n",
    "1) Repeating letters in different inputs means those values will be multiplied and those products will be the output"
   ]
  },
  {
   "cell_type": "code",
   "execution_count": 16,
   "id": "bfe7fa7d-303f-4dfe-822e-d83031eb3524",
   "metadata": {},
   "outputs": [],
   "source": [
    "M = np.einsum('ik,kj->ij',A,B)"
   ]
  },
  {
   "cell_type": "markdown",
   "id": "ff55fba9-28ee-4695-b68f-f9154c902b40",
   "metadata": {},
   "source": [
    "2) Omitting a letter means that axis will be summed."
   ]
  },
  {
   "cell_type": "code",
   "execution_count": 17,
   "id": "df0e91db-3da3-4d2d-87c2-ebcd79fabf06",
   "metadata": {},
   "outputs": [
    {
     "data": {
      "text/plain": [
       "(array([1., 1., 1.]), 3.0)"
      ]
     },
     "execution_count": 17,
     "metadata": {},
     "output_type": "execute_result"
    }
   ],
   "source": [
    "x = np.ones(3)\n",
    "sum_x = np.einsum('i->',x)\n",
    "x,sum_x"
   ]
  },
  {
   "cell_type": "markdown",
   "id": "3927a554-39e2-4229-9a0b-c86cd17b5be6",
   "metadata": {},
   "source": [
    "3) we can return the unsummed axes in any order."
   ]
  },
  {
   "cell_type": "code",
   "execution_count": 18,
   "id": "3a46c57a-07ea-4742-a326-057678e6affa",
   "metadata": {},
   "outputs": [
    {
     "data": {
      "text/plain": [
       "(array([[[0.61762711, 0.8659931 , 0.32344738],\n",
       "         [0.2882496 , 0.59037457, 0.98575111],\n",
       "         [0.90614125, 0.22431024, 0.76094613],\n",
       "         [0.63187548, 0.52788355, 0.64144903]],\n",
       " \n",
       "        [[0.70894856, 0.67183962, 0.24203727],\n",
       "         [0.42728761, 0.11395491, 0.22471515],\n",
       "         [0.34813792, 0.88681942, 0.48111853],\n",
       "         [0.23586497, 0.39346914, 0.19607143]],\n",
       " \n",
       "        [[0.68126452, 0.4415422 , 0.65290782],\n",
       "         [0.22112076, 0.94380266, 0.4247724 ],\n",
       "         [0.71101753, 0.09811658, 0.28287451],\n",
       "         [0.25321746, 0.09632883, 0.5470502 ]],\n",
       " \n",
       "        [[0.71743983, 0.78425608, 0.13594393],\n",
       "         [0.57559074, 0.40443666, 0.28114574],\n",
       "         [0.12225231, 0.60746265, 0.98820248],\n",
       "         [0.77935123, 0.10759621, 0.40394789]],\n",
       " \n",
       "        [[0.25502549, 0.02743848, 0.86750732],\n",
       "         [0.40325949, 0.86688796, 0.18320304],\n",
       "         [0.64349617, 0.9683524 , 0.93085404],\n",
       "         [0.48568938, 0.80231379, 0.52728886]]]),\n",
       " array([[[0.61762711, 0.70894856, 0.68126452, 0.71743983, 0.25502549],\n",
       "         [0.2882496 , 0.42728761, 0.22112076, 0.57559074, 0.40325949],\n",
       "         [0.90614125, 0.34813792, 0.71101753, 0.12225231, 0.64349617],\n",
       "         [0.63187548, 0.23586497, 0.25321746, 0.77935123, 0.48568938]],\n",
       " \n",
       "        [[0.8659931 , 0.67183962, 0.4415422 , 0.78425608, 0.02743848],\n",
       "         [0.59037457, 0.11395491, 0.94380266, 0.40443666, 0.86688796],\n",
       "         [0.22431024, 0.88681942, 0.09811658, 0.60746265, 0.9683524 ],\n",
       "         [0.52788355, 0.39346914, 0.09632883, 0.10759621, 0.80231379]],\n",
       " \n",
       "        [[0.32344738, 0.24203727, 0.65290782, 0.13594393, 0.86750732],\n",
       "         [0.98575111, 0.22471515, 0.4247724 , 0.28114574, 0.18320304],\n",
       "         [0.76094613, 0.48111853, 0.28287451, 0.98820248, 0.93085404],\n",
       "         [0.64144903, 0.19607143, 0.5470502 , 0.40394789, 0.52728886]]]),\n",
       " (5, 4, 3),\n",
       " (3, 4, 5))"
      ]
     },
     "execution_count": 18,
     "metadata": {},
     "output_type": "execute_result"
    }
   ],
   "source": [
    "x = np.random.rand(5,4,3)\n",
    "res = np.einsum('ijk->kji',x)\n",
    "x,res, x.shape, res.shape"
   ]
  },
  {
   "cell_type": "markdown",
   "id": "3ae03a20-7882-4e45-9e46-de2903c982b9",
   "metadata": {},
   "source": [
    "Vediamo altri esempi"
   ]
  },
  {
   "cell_type": "code",
   "execution_count": 19,
   "id": "3f269fac-e0f3-45fd-859f-74c459cf9911",
   "metadata": {},
   "outputs": [
    {
     "data": {
      "text/plain": [
       "(tensor([[0.4791, 0.2636, 0.0665],\n",
       "         [0.4449, 0.4341, 0.7383]]),\n",
       " tensor([[0.9617, 0.0210, 0.8722]]))"
      ]
     },
     "execution_count": 19,
     "metadata": {},
     "output_type": "execute_result"
    }
   ],
   "source": [
    "x = torch.rand((2,3))\n",
    "v = torch.rand((1,3))\n",
    "x,v"
   ]
  },
  {
   "cell_type": "code",
   "execution_count": 20,
   "id": "2404116e-f9ac-449b-8fc7-1f711b0055c7",
   "metadata": {},
   "outputs": [
    {
     "data": {
      "text/plain": [
       "tensor([[0.4791, 0.4449],\n",
       "        [0.2636, 0.4341],\n",
       "        [0.0665, 0.7383]])"
      ]
     },
     "execution_count": 20,
     "metadata": {},
     "output_type": "execute_result"
    }
   ],
   "source": [
    "#permutation of Tensors\n",
    "y= torch.einsum(\"ij->ji\", x)\n",
    "y"
   ]
  },
  {
   "cell_type": "code",
   "execution_count": 21,
   "id": "66a8033c-c487-4494-b35e-50650544b21f",
   "metadata": {},
   "outputs": [
    {
     "data": {
      "text/plain": [
       "tensor(2.4265)"
      ]
     },
     "execution_count": 21,
     "metadata": {},
     "output_type": "execute_result"
    }
   ],
   "source": [
    "#Summation (rule num. 2)\n",
    "y= torch.einsum(\"ij->\", x)\n",
    "y                "
   ]
  },
  {
   "cell_type": "code",
   "execution_count": 22,
   "id": "efd9d3ca-1fe4-485c-9f82-d00a3f7b7612",
   "metadata": {},
   "outputs": [
    {
     "data": {
      "text/plain": [
       "tensor([0.9240, 0.6977, 0.8048])"
      ]
     },
     "execution_count": 22,
     "metadata": {},
     "output_type": "execute_result"
    }
   ],
   "source": [
    "#Column Sun\n",
    "y= torch.einsum(\"ij->j\", x)\n",
    "y"
   ]
  },
  {
   "cell_type": "code",
   "execution_count": 23,
   "id": "24fff08e-6440-457d-ab21-79cd0fbc4120",
   "metadata": {},
   "outputs": [
    {
     "data": {
      "text/plain": [
       "tensor([0.8092, 1.6172])"
      ]
     },
     "execution_count": 23,
     "metadata": {},
     "output_type": "execute_result"
    }
   ],
   "source": [
    "#Row Sum\n",
    "y= torch.einsum(\"ij->i\", x)\n",
    "y"
   ]
  },
  {
   "cell_type": "code",
   "execution_count": 24,
   "id": "85017979-008b-4920-9c2b-ebd17f383ee9",
   "metadata": {},
   "outputs": [
    {
     "data": {
      "text/plain": [
       "tensor([[0.5243],\n",
       "        [1.0809]])"
      ]
     },
     "execution_count": 24,
     "metadata": {},
     "output_type": "execute_result"
    }
   ],
   "source": [
    "#Matrix-Vector Multiplication\n",
    "y= torch.einsum(\"ij,kj->ik\", x,v)\n",
    "y"
   ]
  },
  {
   "cell_type": "code",
   "execution_count": 25,
   "id": "b0b6d748-6f3c-4769-af54-b37d7be51abd",
   "metadata": {},
   "outputs": [
    {
     "data": {
      "text/plain": [
       "tensor([[0.3035, 0.3767],\n",
       "        [0.3767, 0.9314]])"
      ]
     },
     "execution_count": 25,
     "metadata": {},
     "output_type": "execute_result"
    }
   ],
   "source": [
    "#Matrix-Matrix Multiplication\n",
    "y= torch.einsum(\"ij,kj->ik\", x,x) # 2x2: 2x3 X 3x2\n",
    "y"
   ]
  },
  {
   "cell_type": "code",
   "execution_count": 26,
   "id": "988edc73-2214-480a-8070-66da4ad9a294",
   "metadata": {},
   "outputs": [
    {
     "data": {
      "text/plain": [
       "tensor(0.3035)"
      ]
     },
     "execution_count": 26,
     "metadata": {},
     "output_type": "execute_result"
    }
   ],
   "source": [
    "#Dot product first row with first row of matrix\n",
    "y= torch.einsum(\"i,i->\", x[0],x[0])\n",
    "y"
   ]
  },
  {
   "cell_type": "code",
   "execution_count": 27,
   "id": "6b62eebf-8930-4fa6-adab-34539a8278c8",
   "metadata": {},
   "outputs": [
    {
     "data": {
      "text/plain": [
       "tensor(1.2349)"
      ]
     },
     "execution_count": 27,
     "metadata": {},
     "output_type": "execute_result"
    }
   ],
   "source": [
    "#Dot product with matrix\n",
    "y = torch.einsum(\"ij,ij->\",x,x)\n",
    "y"
   ]
  },
  {
   "cell_type": "code",
   "execution_count": 28,
   "id": "4554bf90-c84b-439e-8dd2-5b1e3b75c5c6",
   "metadata": {},
   "outputs": [
    {
     "data": {
      "text/plain": [
       "tensor([[0.2296, 0.0695, 0.0044],\n",
       "        [0.1979, 0.1884, 0.5450]])"
      ]
     },
     "execution_count": 28,
     "metadata": {},
     "output_type": "execute_result"
    }
   ],
   "source": [
    "#Hadamard Product (element-wise multiplication)\n",
    "y = torch.einsum(\"ij,ij->ij\",x,x)\n",
    "y"
   ]
  },
  {
   "cell_type": "code",
   "execution_count": 29,
   "id": "461cd12d-76d1-49ee-a54d-794d763c5ff3",
   "metadata": {},
   "outputs": [
    {
     "data": {
      "text/plain": [
       "(tensor([0.7053, 0.8597, 0.0363]),\n",
       " tensor([0.9417, 0.4200, 0.2121, 0.1386, 0.2081]),\n",
       " tensor([[0.6641, 0.2962, 0.1496, 0.0978, 0.1468],\n",
       "         [0.8095, 0.3610, 0.1824, 0.1192, 0.1789],\n",
       "         [0.0342, 0.0153, 0.0077, 0.0050, 0.0076]]))"
      ]
     },
     "execution_count": 29,
     "metadata": {},
     "output_type": "execute_result"
    }
   ],
   "source": [
    "#Outer Product\n",
    "a = torch.rand((3))\n",
    "b = torch.rand((5))\n",
    "\n",
    "y = torch.einsum(\"i,j->ij\",a,b)\n",
    "a,b,y"
   ]
  },
  {
   "cell_type": "code",
   "execution_count": 30,
   "id": "57916ed7-44a8-47d9-a8ac-1b264f158258",
   "metadata": {},
   "outputs": [
    {
     "data": {
      "text/plain": [
       "tensor([[[1.2989, 1.5369, 1.3960],\n",
       "         [0.6965, 1.5093, 1.3104]],\n",
       "\n",
       "        [[0.5443, 1.4777, 1.7847],\n",
       "         [0.4836, 0.8814, 1.2252]],\n",
       "\n",
       "        [[0.5861, 1.4119, 1.7373],\n",
       "         [0.2792, 0.9608, 0.7165]]])"
      ]
     },
     "execution_count": 30,
     "metadata": {},
     "output_type": "execute_result"
    }
   ],
   "source": [
    "#Batch Matrix Multiplication\n",
    "a = torch.rand((3,2,5))\n",
    "b = torch.rand((3,5,3))\n",
    "\n",
    "y=torch.einsum(\"ijk,ikl->ijl\",a,b)\n",
    "y"
   ]
  },
  {
   "cell_type": "code",
   "execution_count": 31,
   "id": "26c6064b-d959-4199-bed5-a76240028969",
   "metadata": {},
   "outputs": [],
   "source": [
    "#Matrix Diagonal"
   ]
  },
  {
   "cell_type": "code",
   "execution_count": 32,
   "id": "21815c28-0370-4673-90f0-3ef123becae9",
   "metadata": {},
   "outputs": [
    {
     "data": {
      "text/plain": [
       "tensor([[0.3782, 0.9965, 0.5688],\n",
       "        [0.5463, 0.2894, 0.8289],\n",
       "        [0.3317, 0.8812, 0.5260]])"
      ]
     },
     "execution_count": 32,
     "metadata": {},
     "output_type": "execute_result"
    }
   ],
   "source": [
    "x = torch.rand((3,3))\n",
    "\n",
    "y=torch.einsum(\"ii->\",x)\n",
    "x"
   ]
  },
  {
   "cell_type": "markdown",
   "id": "e048b8db-a304-49a4-9bfd-4f8f8cc3e30d",
   "metadata": {},
   "source": [
    "Altri aricoli:\n",
    "\n",
    "- https://rockt.github.io/2018/04/30/einsum\n",
    "- https://obilaniu6266h16.wordpress.com/2016/02/04/einstein-summation-in-numpy/\n",
    "- https://ajcr.net/Basic-guide-to-einsum/"
   ]
  },
  {
   "cell_type": "code",
   "execution_count": null,
   "id": "f5db8aba-bc71-46f9-a6a1-665bc1bdbeed",
   "metadata": {},
   "outputs": [],
   "source": []
  }
 ],
 "metadata": {
  "kernelspec": {
   "display_name": "Python 3 (ipykernel)",
   "language": "python",
   "name": "python3"
  },
  "language_info": {
   "codemirror_mode": {
    "name": "ipython",
    "version": 3
   },
   "file_extension": ".py",
   "mimetype": "text/x-python",
   "name": "python",
   "nbconvert_exporter": "python",
   "pygments_lexer": "ipython3",
   "version": "3.9.7"
  }
 },
 "nbformat": 4,
 "nbformat_minor": 5
}
